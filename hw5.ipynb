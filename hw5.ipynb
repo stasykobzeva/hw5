{
 "cells": [
  {
   "cell_type": "code",
   "execution_count": null,
   "id": "e2e8e6a7-c11f-415a-b1b9-2f47f61e368b",
   "metadata": {},
   "outputs": [
    {
     "name": "stdout",
     "output_type": "stream",
     "text": [
      "1 - ввод даты, 2 - выход\n"
     ]
    },
    {
     "name": "stdin",
     "output_type": "stream",
     "text": [
      " 1\n",
      "Введите дату:  Wednesday, October 2, 2002\n"
     ]
    },
    {
     "name": "stdout",
     "output_type": "stream",
     "text": [
      "The Moscow times  : 2002-10-02 00:00:00\n",
      "1 - ввод даты, 2 - выход\n"
     ]
    }
   ],
   "source": [
    "from datetime import datetime\n",
    "\n",
    "date_formats = [\n",
    "    \"%A, %B %d, %Y\",  # The Moscow Times\n",
    "    \"%A, %d.%m.%y\",  # The Guardian\n",
    "    \"%A, %d %B %Y\"  # Daily News\n",
    "]\n",
    "flag = [\"The Moscow times\", \"the Guardian\", \"Daily News\"]\n",
    "while True:\n",
    "    print(\"1 - ввод даты, 2 - выход\")\n",
    "    user_input = int(input())\n",
    "    if user_input == 2:\n",
    "        break\n",
    "\n",
    "    date_input = input(\"Введите дату: \")\n",
    "    date_object = None\n",
    "\n",
    "    for i in range(3):\n",
    "        try:\n",
    "            date_object = datetime.strptime(date_input, date_formats[i])\n",
    "            if (date_object != None):\n",
    "                print( flag[i],\" :\", date_object)\n",
    "                break\n",
    "        except ValueError:\n",
    "            pass\n",
    "\n",
    "    if date_object is None:\n",
    "        print(\"Неверный формат даты\")\n"
   ]
  },
  {
   "cell_type": "code",
   "execution_count": null,
   "id": "ba308a15-d44f-428a-976c-98c6866285a1",
   "metadata": {},
   "outputs": [],
   "source": []
  },
  {
   "cell_type": "code",
   "execution_count": null,
   "id": "2a6073ab-9001-4016-a095-7ffd67378a0c",
   "metadata": {},
   "outputs": [],
   "source": []
  }
 ],
 "metadata": {
  "kernelspec": {
   "display_name": "Python 3 (ipykernel)",
   "language": "python",
   "name": "python3"
  },
  "language_info": {
   "codemirror_mode": {
    "name": "ipython",
    "version": 3
   },
   "file_extension": ".py",
   "mimetype": "text/x-python",
   "name": "python",
   "nbconvert_exporter": "python",
   "pygments_lexer": "ipython3",
   "version": "3.12.4"
  }
 },
 "nbformat": 4,
 "nbformat_minor": 5
}
